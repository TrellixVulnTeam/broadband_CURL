{
 "cells": [
  {
   "cell_type": "markdown",
   "id": "4bf6160a",
   "metadata": {},
   "source": [
    "# Automobile consumer preferences "
   ]
  },
  {
   "cell_type": "code",
   "execution_count": null,
   "id": "fdda3624",
   "metadata": {},
   "outputs": [],
   "source": [
    "import pandas as pd\n",
    "import matplotlib as mpl"
   ]
  },
  {
   "cell_type": "markdown",
   "id": "a826fab4",
   "metadata": {},
   "source": [
    "## Set up dataframes"
   ]
  },
  {
   "cell_type": "code",
   "execution_count": null,
   "id": "db672fee",
   "metadata": {},
   "outputs": [],
   "source": [
    "current_veh = pd.read_csv('cec_preference/data/survey_res_currentveh.csv')\n",
    "res_household = pd.read_csv('cec_preference/data/survey_res_household.csv')\n",
    "res_main = pd.read_csv('cec_preference/data/survey_res_main.csv')\n",
    "\n",
    "dict_res_veh = pd.read_csv('cec_preference/documentation/dict_res_veh.csv')\n",
    "dict_res_main = pd.read_csv('cec_preference/documentation/dict_res_main.csv')"
   ]
  },
  {
   "cell_type": "code",
   "execution_count": null,
   "id": "617636ba",
   "metadata": {},
   "outputs": [],
   "source": [
    "res_main.head(100)"
   ]
  },
  {
   "cell_type": "code",
   "execution_count": null,
   "id": "5f1c9c8e",
   "metadata": {},
   "outputs": [],
   "source": [
    "dict_res_main.head(837)"
   ]
  },
  {
   "cell_type": "code",
   "execution_count": null,
   "id": "06db0bb2",
   "metadata": {},
   "outputs": [],
   "source": [
    "pd.set_option('display.max_columns', 229)\n",
    "pd.set_option('display.max_rows', 229)"
   ]
  },
  {
   "cell_type": "code",
   "execution_count": null,
   "id": "f147bbf0",
   "metadata": {},
   "outputs": [],
   "source": [
    "dict_res_main.head(100)"
   ]
  },
  {
   "cell_type": "code",
   "execution_count": null,
   "id": "a9a8af19",
   "metadata": {},
   "outputs": [],
   "source": [
    "res_main['county'].value_counts()"
   ]
  },
  {
   "cell_type": "code",
   "execution_count": null,
   "id": "1e1aa96d",
   "metadata": {},
   "outputs": [],
   "source": [
    "dict_county = dict_res_main.iloc[7:66, 2:4].reset_index().drop('index',1).rename(columns = {'Value': 'county', 'Value Label\\n(Note: \"-1\" indicates that the question was not shown to that respondent)': 'county_name'})\n",
    "dict_county[\"county\"] = pd.to_numeric(dict_county[\"county\"])\n",
    "#dict_county"
   ]
  },
  {
   "cell_type": "code",
   "execution_count": null,
   "id": "43be2c61",
   "metadata": {},
   "outputs": [],
   "source": [
    "res_main_merged = pd.merge(res_main, dict_county, on = 'county')"
   ]
  },
  {
   "cell_type": "code",
   "execution_count": null,
   "id": "fcc3a7de",
   "metadata": {},
   "outputs": [],
   "source": [
    "county_pevowner_crosstab = pd.crosstab(res_main_merged.county_name, res_main_merged.pevowner, rownames = ['County'], colnames = ['PEV Owner'],margins = True, margins_name = \"Total\")\n",
    "county_pevowner_crosstab"
   ]
  },
  {
   "cell_type": "code",
   "execution_count": null,
   "id": "b2e1841b",
   "metadata": {},
   "outputs": [],
   "source": [
    "res_main['pevowner'].value_counts()"
   ]
  },
  {
   "cell_type": "code",
   "execution_count": null,
   "id": "ce6387b7",
   "metadata": {},
   "outputs": [],
   "source": [
    "pevowner_grp = res_main.groupby(['pevowner'])\n",
    "county_grp = res_main.groupby(['county'])"
   ]
  },
  {
   "cell_type": "code",
   "execution_count": null,
   "id": "a4e38ca0",
   "metadata": {},
   "outputs": [],
   "source": [
    "##pev_owner \n",
    "pevowner_grp.get_group(1) "
   ]
  },
  {
   "cell_type": "code",
   "execution_count": null,
   "id": "e6f8d269",
   "metadata": {},
   "outputs": [],
   "source": [
    "not_pevowner = res_main['pevowner'] == 0\n",
    "#not pev_owners in Los Angeles County\n",
    "res_main.loc[not_pevowner]['county'].value_counts()"
   ]
  },
  {
   "cell_type": "code",
   "execution_count": null,
   "id": "a77b57e8",
   "metadata": {
    "scrolled": true
   },
   "outputs": [],
   "source": [
    "pevowner = res_main['pevowner'] == 1\n",
    "#not pev_owners in Los Angeles County\n",
    "res_main.loc[pevowner]['county'].value_counts()"
   ]
  },
  {
   "cell_type": "code",
   "execution_count": null,
   "id": "2717e78e",
   "metadata": {},
   "outputs": [],
   "source": [
    "pevowner_grp['county'].value_counts().loc[0]"
   ]
  },
  {
   "cell_type": "code",
   "execution_count": null,
   "id": "441a7a6f",
   "metadata": {},
   "outputs": [],
   "source": [
    "lacounty_pev = county_grp['pevowner'].value_counts().loc[19].rename_axis('ownership').reset_index(name='counts')\n",
    "lacounty_pev"
   ]
  },
  {
   "cell_type": "markdown",
   "id": "de849466",
   "metadata": {},
   "source": [
    "Only keeping 5 columns from res_main: sampno, householdvehicles, income, householdmembers5, and pevowner and isolate to just households in LA County"
   ]
  },
  {
   "cell_type": "code",
   "execution_count": null,
   "id": "8f5dfe2b",
   "metadata": {},
   "outputs": [],
   "source": []
  }
 ],
 "metadata": {
  "kernelspec": {
   "display_name": "Python 3 (ipykernel)",
   "language": "python",
   "name": "python3"
  },
  "language_info": {
   "codemirror_mode": {
    "name": "ipython",
    "version": 3
   },
   "file_extension": ".py",
   "mimetype": "text/x-python",
   "name": "python",
   "nbconvert_exporter": "python",
   "pygments_lexer": "ipython3",
   "version": "3.9.6"
  }
 },
 "nbformat": 4,
 "nbformat_minor": 5
}
